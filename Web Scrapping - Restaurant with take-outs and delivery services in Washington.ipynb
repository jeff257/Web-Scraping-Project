{
 "cells": [
  {
   "cell_type": "code",
   "execution_count": 63,
   "metadata": {},
   "outputs": [],
   "source": [
    "import requests \n",
    "from bs4 import BeautifulSoup \n",
    "import csv \n",
    "from datetime import date,timedelta\n",
    "from datetime import datetime\n",
    "import numpy as np\n",
    "import smtplib, ssl\n",
    "from email.mime.multipart import MIMEMultipart\n",
    "from email.mime.text import MIMEText\n",
    "import smtplib"
   ]
  },
  {
   "cell_type": "markdown",
   "metadata": {},
   "source": [
    "# Retrieve Data from Intentionalist: Takeout and Delivery Directory\n",
    "# URL: https://intentionalist.com/covid-19-takeout-delivery-directory/\n",
    "## Author: Jeffrey Lai"
   ]
  },
  {
   "cell_type": "markdown",
   "metadata": {},
   "source": [
    "# Read data from yesterday's list. If file is not found, send Email from Gmail to remind the developer. "
   ]
  },
  {
   "cell_type": "code",
   "execution_count": 108,
   "metadata": {},
   "outputs": [
    {
     "name": "stdout",
     "output_type": "stream",
     "text": [
      "not found\n",
      "successfully sent email to jeff257@uw.edu:\n"
     ]
    }
   ],
   "source": [
    "try:\n",
    "    pre_day = pd.read_csv('C:\\\\Users\\\\jeffr\\\\takeout_{}.csv'.format(datetime.strftime(date.today()- timedelta(1),'%Y%m%d')),encoding='utf-8-sig')\n",
    "except Exception:\n",
    "    print('not found')\n",
    "    # create message object instance\n",
    "    msg = MIMEMultipart()\n",
    "    message = \"File Not Found\"\n",
    "    # setup the parameters of the message\n",
    "    with open('pd.txt') as f:\n",
    "        pw = f.readline()\n",
    "    password = pw\n",
    "    msg['From'] = \"sender\"\n",
    "    msg['To'] = \"recipient\"\n",
    "    msg['Subject'] = \"Subscription\"\n",
    "    msg.attach(MIMEText(message, 'plain'))\n",
    "\n",
    "    #create server\n",
    "    server = smtplib.SMTP('smtp.gmail.com: 587')\n",
    "\n",
    "    server.starttls()\n",
    "\n",
    "    server.login(msg['From'], password)\n",
    "\n",
    "    server.sendmail(msg['From'], msg['To'], msg.as_string())\n",
    "\n",
    "    server.quit()\n",
    "\n",
    "    print (\"successfully sent email to %s:\" % (msg['To']))"
   ]
  },
  {
   "cell_type": "code",
   "execution_count": 109,
   "metadata": {},
   "outputs": [],
   "source": [
    "URL = \"https://intentionalist.com/covid-19-takeout-delivery-directory/\"\n",
    "r = requests.get(URL)"
   ]
  },
  {
   "cell_type": "code",
   "execution_count": 110,
   "metadata": {},
   "outputs": [],
   "source": [
    "soup = BeautifulSoup(r.content, 'html5lib') "
   ]
  },
  {
   "cell_type": "code",
   "execution_count": 111,
   "metadata": {},
   "outputs": [],
   "source": [
    "table = soup.findAll('div', attrs = {'class':'b-name'})"
   ]
  },
  {
   "cell_type": "markdown",
   "metadata": {},
   "source": [
    "# Build Restaurant Name List"
   ]
  },
  {
   "cell_type": "code",
   "execution_count": 112,
   "metadata": {},
   "outputs": [],
   "source": [
    "rest = []\n",
    "for i in table:\n",
    "    #rest.appendtable[3].text\n",
    "    rest.append(i.text)\n",
    "rest = list(map(lambda st : str.replace(st,\"+\",\"\\+\"),rest))"
   ]
  },
  {
   "cell_type": "markdown",
   "metadata": {},
   "source": [
    "# Build Restaurant Status List"
   ]
  },
  {
   "cell_type": "code",
   "execution_count": 113,
   "metadata": {},
   "outputs": [],
   "source": [
    "status = []\n",
    "st = soup.findAll('div', attrs = {'class':'b-status'})\n",
    "for i in st:\n",
    "    status.append(i.text)"
   ]
  },
  {
   "cell_type": "markdown",
   "metadata": {},
   "source": [
    "# Build Restaurant Service List"
   ]
  },
  {
   "cell_type": "code",
   "execution_count": 114,
   "metadata": {},
   "outputs": [],
   "source": [
    "serv = []\n",
    "service = (soup.findAll('div', attrs = {'class':'b-services'}))\n",
    "for i in service:\n",
    "    serv.append(i.text[8:100])"
   ]
  },
  {
   "cell_type": "code",
   "execution_count": 115,
   "metadata": {},
   "outputs": [],
   "source": [
    "import re\n",
    "t = soup.find('div', text = re.compile('Good Egg'),attrs = {'class':'b-name'}).find_next_siblings(\"div\")"
   ]
  },
  {
   "cell_type": "markdown",
   "metadata": {},
   "source": [
    "# Retrieve Restaurant Location"
   ]
  },
  {
   "cell_type": "code",
   "execution_count": 116,
   "metadata": {},
   "outputs": [],
   "source": [
    "arr = []\n",
    "rest2 = []\n",
    "for store in rest:\n",
    "    rest2.append(store.replace(\"\\\\\",\"\"))\n",
    "    t = soup.find('div', text = re.compile(store),attrs = {'class':'b-name'})#.find_next_siblings(\"div\")\n",
    "    if t is None :\n",
    "        arr.append(\"NaN\")\n",
    "    elif t.find_next_siblings(\"div\")[1].find(attrs = {'class':'b-label'}).text == \"Neighborhood\" and len(t.find_next_siblings(\"div\")) == 2:\n",
    "        arr.append(t.find_next_siblings(\"div\")[1].find(attrs = {'class':'b-label'}).next_sibling) # some restaurants only have neighborhood\n",
    "    elif t.find_next_siblings(\"div\")[1].find(attrs = {'class':'b-label'}).text == \"Neighborhood\" and len(t.find_next_siblings(\"div\")) > 2:\n",
    "        arr.append(t.find_next_siblings(\"div\")[2].find(attrs = {'class':'b-label'}).next_sibling)\n",
    "    else:\n",
    "        t2 = t.find_next_siblings(\"div\")\n",
    "        arr.append(t2[1].find(attrs = {'class':'b-label'}).next_sibling)\n",
    "    \n"
   ]
  },
  {
   "cell_type": "markdown",
   "metadata": {},
   "source": [
    "# Combine All Restaurant Information into Data Frame"
   ]
  },
  {
   "cell_type": "code",
   "execution_count": 117,
   "metadata": {},
   "outputs": [],
   "source": [
    "import pandas as pd\n",
    "df = pd.DataFrame(arr,rest2)\n"
   ]
  },
  {
   "cell_type": "code",
   "execution_count": 118,
   "metadata": {},
   "outputs": [],
   "source": [
    "df['status'] = status"
   ]
  },
  {
   "cell_type": "code",
   "execution_count": 119,
   "metadata": {},
   "outputs": [],
   "source": [
    "df['service'] = serv"
   ]
  },
  {
   "cell_type": "code",
   "execution_count": 120,
   "metadata": {},
   "outputs": [],
   "source": [
    "df = df.reset_index().rename(columns={'index':'name', 0:\"address\"})"
   ]
  },
  {
   "cell_type": "code",
   "execution_count": 121,
   "metadata": {},
   "outputs": [
    {
     "data": {
      "text/html": [
       "<div>\n",
       "<style scoped>\n",
       "    .dataframe tbody tr th:only-of-type {\n",
       "        vertical-align: middle;\n",
       "    }\n",
       "\n",
       "    .dataframe tbody tr th {\n",
       "        vertical-align: top;\n",
       "    }\n",
       "\n",
       "    .dataframe thead th {\n",
       "        text-align: right;\n",
       "    }\n",
       "</style>\n",
       "<table border=\"1\" class=\"dataframe\">\n",
       "  <thead>\n",
       "    <tr style=\"text-align: right;\">\n",
       "      <th></th>\n",
       "      <th>name</th>\n",
       "      <th>address</th>\n",
       "      <th>status</th>\n",
       "      <th>service</th>\n",
       "    </tr>\n",
       "  </thead>\n",
       "  <tbody>\n",
       "    <tr>\n",
       "      <th>5</th>\n",
       "      <td>A + Hong Kong Kitchen</td>\n",
       "      <td>419 6th Ave S, Seattle, WA 98104</td>\n",
       "      <td></td>\n",
       "      <td>Takeout, Delivery (via 3rd Party)</td>\n",
       "    </tr>\n",
       "    <tr>\n",
       "      <th>311</th>\n",
       "      <td>Hong Kong Bistro</td>\n",
       "      <td>507 Maynard Ave S #511C, Seattle, WA 98104</td>\n",
       "      <td></td>\n",
       "      <td>Takeout</td>\n",
       "    </tr>\n",
       "  </tbody>\n",
       "</table>\n",
       "</div>"
      ],
      "text/plain": [
       "                      name                                     address status  \\\n",
       "5    A + Hong Kong Kitchen            419 6th Ave S, Seattle, WA 98104          \n",
       "311       Hong Kong Bistro  507 Maynard Ave S #511C, Seattle, WA 98104          \n",
       "\n",
       "                               service  \n",
       "5    Takeout, Delivery (via 3rd Party)  \n",
       "311                            Takeout  "
      ]
     },
     "execution_count": 121,
     "metadata": {},
     "output_type": "execute_result"
    }
   ],
   "source": [
    "df[df['name'].str.contains(\"Hong Kong\")]"
   ]
  },
  {
   "cell_type": "markdown",
   "metadata": {},
   "source": [
    "# Extract Data for restaurants in Washington State only"
   ]
  },
  {
   "cell_type": "code",
   "execution_count": 122,
   "metadata": {},
   "outputs": [],
   "source": [
    "df[\"address\"] = df['address'].str.strip()\n",
    "df[\"state\"] = df['address'].str.extract('(WA|Seattle|([9][8][0-9]+)$)')[0]\n",
    "#df[df['state'].isnull()]"
   ]
  },
  {
   "cell_type": "code",
   "execution_count": 123,
   "metadata": {},
   "outputs": [],
   "source": [
    "df[\"state\"] = np.where(df[\"name\"].isin([ \"Shiro's Sushi\"]),\"WA\",df[\"state\"])"
   ]
  },
  {
   "cell_type": "markdown",
   "metadata": {},
   "source": [
    "# Write 2 Data files To local Hard Drive. List of new restaurants and a complete list of restaurants."
   ]
  },
  {
   "cell_type": "code",
   "execution_count": 124,
   "metadata": {},
   "outputs": [],
   "source": [
    "try:\n",
    "    pre_day = pd.read_csv('C:\\\\Users\\\\jeffr\\\\takeout_{}.csv'.format(datetime.strftime(date.today()- timedelta(1),'%Y%m%d')),encoding='utf-8-sig')\n",
    "    result = pd.merge(pre_day.rename(columns={'name':'name1'}), df, left_on='name1', right_on='name', how='right')\n",
    "    new_rest = result[result['name1'].isnull()][['name','address_y','status_y','service_y','state_y']]\n",
    "    new_rest.to_csv('C:\\\\Users\\\\jeffr\\\\new_restaurant_{}.csv'.format(datetime.strftime(date.today(),'%Y%m%d')),encoding='utf-8-sig')\n",
    "    df.to_csv('C:\\\\Users\\\\jeffr\\\\takeout_{}.csv'.format(datetime.strftime(date.today(),'%Y%m%d')),encoding='utf-8-sig') # complete list\n",
    "except Exception:\n",
    "    df.to_csv('C:\\\\Users\\\\jeffr\\\\takeout_{}.csv'.format(datetime.strftime(date.today(),'%Y%m%d')),encoding='utf-8-sig')"
   ]
  },
  {
   "cell_type": "code",
   "execution_count": null,
   "metadata": {},
   "outputs": [],
   "source": []
  }
 ],
 "metadata": {
  "kernelspec": {
   "display_name": "Python 3",
   "language": "python",
   "name": "python3"
  },
  "language_info": {
   "codemirror_mode": {
    "name": "ipython",
    "version": 3
   },
   "file_extension": ".py",
   "mimetype": "text/x-python",
   "name": "python",
   "nbconvert_exporter": "python",
   "pygments_lexer": "ipython3",
   "version": "3.7.3"
  }
 },
 "nbformat": 4,
 "nbformat_minor": 2
}
