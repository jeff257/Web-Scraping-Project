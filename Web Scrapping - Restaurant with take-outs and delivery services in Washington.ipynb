{
 "cells": [
  {
   "cell_type": "code",
   "execution_count": 2,
   "metadata": {},
   "outputs": [],
   "source": [
    "import requests \n",
    "from bs4 import BeautifulSoup \n",
    "import csv \n",
    "from datetime import date\n",
    "from datetime import datetime\n",
    "import numpy as np"
   ]
  },
  {
   "cell_type": "markdown",
   "metadata": {},
   "source": [
    "# Retrieve Data from Intentionalist: Takeout and Delivery Directory\n",
    "# URL: https://intentionalist.com/covid-19-takeout-delivery-directory/\n",
    "## Author: Jeffrey Lai"
   ]
  },
  {
   "cell_type": "code",
   "execution_count": 3,
   "metadata": {},
   "outputs": [],
   "source": [
    "URL = \"https://intentionalist.com/covid-19-takeout-delivery-directory/\"\n",
    "r = requests.get(URL)"
   ]
  },
  {
   "cell_type": "code",
   "execution_count": 4,
   "metadata": {},
   "outputs": [],
   "source": [
    "soup = BeautifulSoup(r.content, 'html5lib') "
   ]
  },
  {
   "cell_type": "code",
   "execution_count": 5,
   "metadata": {},
   "outputs": [],
   "source": [
    "table = soup.findAll('div', attrs = {'class':'b-name'})"
   ]
  },
  {
   "cell_type": "markdown",
   "metadata": {},
   "source": [
    "# Build Restaurant Name List"
   ]
  },
  {
   "cell_type": "code",
   "execution_count": 48,
   "metadata": {},
   "outputs": [],
   "source": [
    "rest = []\n",
    "for i in table:\n",
    "    #rest.appendtable[3].text\n",
    "    rest.append(i.text)\n",
    "rest = list(map(lambda st : str.replace(st,\"+\",\"\\+\"),rest))"
   ]
  },
  {
   "cell_type": "markdown",
   "metadata": {},
   "source": [
    "# Build Restaurant Status List"
   ]
  },
  {
   "cell_type": "code",
   "execution_count": 33,
   "metadata": {},
   "outputs": [],
   "source": [
    "status = []\n",
    "st = soup.findAll('div', attrs = {'class':'b-status'})\n",
    "for i in st:\n",
    "    status.append(i.text)"
   ]
  },
  {
   "cell_type": "markdown",
   "metadata": {},
   "source": [
    "# Build Restaurant Service List"
   ]
  },
  {
   "cell_type": "code",
   "execution_count": 34,
   "metadata": {},
   "outputs": [],
   "source": [
    "serv = []\n",
    "service = (soup.findAll('div', attrs = {'class':'b-services'}))\n",
    "for i in service:\n",
    "    serv.append(i.text[8:100])"
   ]
  },
  {
   "cell_type": "code",
   "execution_count": 35,
   "metadata": {},
   "outputs": [],
   "source": [
    "import re\n",
    "t = soup.find('div', text = re.compile('Good Egg'),attrs = {'class':'b-name'}).find_next_siblings(\"div\")"
   ]
  },
  {
   "cell_type": "markdown",
   "metadata": {},
   "source": [
    "# Retrieve Restaurant Location"
   ]
  },
  {
   "cell_type": "code",
   "execution_count": 37,
   "metadata": {},
   "outputs": [],
   "source": [
    "arr = []\n",
    "rest2 = []\n",
    "for store in rest:\n",
    "    rest2.append(store.replace(\"\\\\\",\"\"))\n",
    "    t = soup.find('div', text = re.compile(store),attrs = {'class':'b-name'})#.find_next_siblings(\"div\")\n",
    "    if t is None :\n",
    "        arr.append(\"NaN\")\n",
    "    elif t.find_next_siblings(\"div\")[1].find(attrs = {'class':'b-label'}).text == \"Neighborhood\" and len(t.find_next_siblings(\"div\")) == 2:\n",
    "        arr.append(t.find_next_siblings(\"div\")[1].find(attrs = {'class':'b-label'}).next_sibling) # some restaurants only have neighborhood\n",
    "    elif t.find_next_siblings(\"div\")[1].find(attrs = {'class':'b-label'}).text == \"Neighborhood\" and len(t.find_next_siblings(\"div\")) > 2:\n",
    "        arr.append(t.find_next_siblings(\"div\")[2].find(attrs = {'class':'b-label'}).next_sibling)\n",
    "    else:\n",
    "        t2 = t.find_next_siblings(\"div\")\n",
    "        arr.append(t2[1].find(attrs = {'class':'b-label'}).next_sibling)\n",
    "    \n"
   ]
  },
  {
   "cell_type": "markdown",
   "metadata": {},
   "source": [
    "# Combine All Restaurant Information into Data Frame"
   ]
  },
  {
   "cell_type": "code",
   "execution_count": 38,
   "metadata": {},
   "outputs": [],
   "source": [
    "import pandas as pd\n",
    "df = pd.DataFrame(arr,rest2)\n"
   ]
  },
  {
   "cell_type": "code",
   "execution_count": 39,
   "metadata": {},
   "outputs": [],
   "source": [
    "df['status'] = status"
   ]
  },
  {
   "cell_type": "code",
   "execution_count": 40,
   "metadata": {},
   "outputs": [],
   "source": [
    "df['service'] = serv"
   ]
  },
  {
   "cell_type": "code",
   "execution_count": 41,
   "metadata": {},
   "outputs": [],
   "source": [
    "df = df.reset_index().rename(columns={'index':'name', 0:\"address\"})"
   ]
  },
  {
   "cell_type": "code",
   "execution_count": 42,
   "metadata": {},
   "outputs": [
    {
     "data": {
      "text/html": [
       "<div>\n",
       "<style scoped>\n",
       "    .dataframe tbody tr th:only-of-type {\n",
       "        vertical-align: middle;\n",
       "    }\n",
       "\n",
       "    .dataframe tbody tr th {\n",
       "        vertical-align: top;\n",
       "    }\n",
       "\n",
       "    .dataframe thead th {\n",
       "        text-align: right;\n",
       "    }\n",
       "</style>\n",
       "<table border=\"1\" class=\"dataframe\">\n",
       "  <thead>\n",
       "    <tr style=\"text-align: right;\">\n",
       "      <th></th>\n",
       "      <th>name</th>\n",
       "      <th>address</th>\n",
       "      <th>status</th>\n",
       "      <th>service</th>\n",
       "    </tr>\n",
       "  </thead>\n",
       "  <tbody>\n",
       "    <tr>\n",
       "      <th>292</th>\n",
       "      <td>Hong Kong Bistro</td>\n",
       "      <td>507 Maynard Ave S #511C, Seattle, WA 98104</td>\n",
       "      <td></td>\n",
       "      <td>Takeout</td>\n",
       "    </tr>\n",
       "    <tr>\n",
       "      <th>783</th>\n",
       "      <td>A + Hong Kong Kitchen</td>\n",
       "      <td>419 6th Ave S, Seattle, WA 98104</td>\n",
       "      <td>Temporarily Closed</td>\n",
       "      <td>N/A</td>\n",
       "    </tr>\n",
       "  </tbody>\n",
       "</table>\n",
       "</div>"
      ],
      "text/plain": [
       "                      name                                     address  \\\n",
       "292       Hong Kong Bistro  507 Maynard Ave S #511C, Seattle, WA 98104   \n",
       "783  A + Hong Kong Kitchen            419 6th Ave S, Seattle, WA 98104   \n",
       "\n",
       "                 status  service  \n",
       "292                      Takeout  \n",
       "783  Temporarily Closed      N/A  "
      ]
     },
     "execution_count": 42,
     "metadata": {},
     "output_type": "execute_result"
    }
   ],
   "source": [
    "df[df['name'].str.contains(\"Hong Kong\")]"
   ]
  },
  {
   "cell_type": "markdown",
   "metadata": {},
   "source": [
    "# Extract Data for restaurants in Washington State only"
   ]
  },
  {
   "cell_type": "code",
   "execution_count": 43,
   "metadata": {},
   "outputs": [],
   "source": [
    "df[\"address\"] = df['address'].str.strip()\n",
    "df[\"state\"] = df['address'].str.extract('(WA|Seattle|([9][8][0-9]+)$)')[0]\n",
    "#df[df['state'].isnull()]"
   ]
  },
  {
   "cell_type": "code",
   "execution_count": 44,
   "metadata": {},
   "outputs": [],
   "source": [
    "df[\"state\"] = np.where(df[\"name\"].isin([ \"Shiro's Sushi\"]),\"WA\",df[\"state\"])"
   ]
  },
  {
   "cell_type": "markdown",
   "metadata": {},
   "source": [
    "# Write Data To local Hard Drive "
   ]
  },
  {
   "cell_type": "code",
   "execution_count": 45,
   "metadata": {},
   "outputs": [],
   "source": [
    "df.to_csv('C:\\\\Users\\\\jeffr\\\\takeout_{}.csv'.format(datetime.strftime(date.today(),'%Y%m%d')),encoding='utf-8-sig')"
   ]
  },
  {
   "cell_type": "code",
   "execution_count": null,
   "metadata": {},
   "outputs": [],
   "source": []
  },
  {
   "cell_type": "code",
   "execution_count": null,
   "metadata": {},
   "outputs": [],
   "source": []
  },
  {
   "cell_type": "code",
   "execution_count": null,
   "metadata": {},
   "outputs": [],
   "source": []
  }
 ],
 "metadata": {
  "kernelspec": {
   "display_name": "Python 3",
   "language": "python",
   "name": "python3"
  },
  "language_info": {
   "codemirror_mode": {
    "name": "ipython",
    "version": 3
   },
   "file_extension": ".py",
   "mimetype": "text/x-python",
   "name": "python",
   "nbconvert_exporter": "python",
   "pygments_lexer": "ipython3",
   "version": "3.7.3"
  }
 },
 "nbformat": 4,
 "nbformat_minor": 2
}
