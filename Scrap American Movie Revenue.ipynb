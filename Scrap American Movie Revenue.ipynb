{
 "cells": [
  {
   "cell_type": "code",
   "execution_count": 16,
   "metadata": {},
   "outputs": [],
   "source": [
    "from bs4 import BeautifulSoup\n",
    "import pandas as pd\n",
    "import csv\n",
    "from urllib.request import urlopen\n",
    "import requests\n",
    "from decimal import Decimal"
   ]
  },
  {
   "cell_type": "markdown",
   "metadata": {},
   "source": [
    "# Source: https://www.imdb.com/\n",
    "# Retrieve American Movie List"
   ]
  },
  {
   "cell_type": "code",
   "execution_count": 17,
   "metadata": {
    "scrolled": true
   },
   "outputs": [],
   "source": [
    "url = 'https://raw.githubusercontent.com/ruiany/DATA557-IMDB-analysis/master/imdb_us_movies.csv'\n",
    "response = urlopen(url)\n",
    "data = response.read()\n",
    "read = csv.DictReader(data)\n",
    "read = pd.io.parsers.read_csv(url)"
   ]
  },
  {
   "cell_type": "markdown",
   "metadata": {},
   "source": [
    "# Create Budget Data Frame"
   ]
  },
  {
   "cell_type": "code",
   "execution_count": 18,
   "metadata": {},
   "outputs": [],
   "source": [
    "df_budget = pd.DataFrame(columns = ['movie_id','budget'])"
   ]
  },
  {
   "cell_type": "markdown",
   "metadata": {},
   "source": [
    "# Iterate each movie ID, get its revenue. "
   ]
  },
  {
   "cell_type": "code",
   "execution_count": 19,
   "metadata": {},
   "outputs": [],
   "source": [
    "cnt = 0\n",
    "df_budget = pd.DataFrame(columns = ['movie_id','budget'])\n",
    "for id in read['tconst'][78000:78004]: # change this line by removing movie id list\n",
    "    url = \"https://www.imdb.com/title/{}/\".format(id)\n",
    "    html = urlopen(url)\n",
    "    soup = BeautifulSoup(html)\n",
    "    s = soup.find('h4', {'class' :'inline'},text='Budget:')#.next_sibling.strip().replace(\"$\",\"\").replace(\",\",\"\")\n",
    "    if s is None:\n",
    "        s = 0  \n",
    "    else:\n",
    "        s = soup.find('h4', {'class' :'inline'},text='Budget:').next_sibling.strip().replace(\"$\",\"\").replace(\",\",\"\")\n",
    "    df_budget = df_budget.append({'movie_id' : id , 'budget' : s} , ignore_index=True)\n",
    "    #cnt = cnt + 1 \n",
    "    #print(cnt)\n",
    "    "
   ]
  },
  {
   "cell_type": "markdown",
   "metadata": {},
   "source": [
    "# Count the proportion of movie with budgets"
   ]
  },
  {
   "cell_type": "code",
   "execution_count": 20,
   "metadata": {},
   "outputs": [
    {
     "data": {
      "text/plain": [
       "0.25"
      ]
     },
     "execution_count": 20,
     "metadata": {},
     "output_type": "execute_result"
    }
   ],
   "source": [
    "(df_budget['budget'] != 0).sum()/len(df_budget['budget'])"
   ]
  },
  {
   "cell_type": "code",
   "execution_count": null,
   "metadata": {},
   "outputs": [],
   "source": []
  }
 ],
 "metadata": {
  "kernelspec": {
   "display_name": "Python 3",
   "language": "python",
   "name": "python3"
  },
  "language_info": {
   "codemirror_mode": {
    "name": "ipython",
    "version": 3
   },
   "file_extension": ".py",
   "mimetype": "text/x-python",
   "name": "python",
   "nbconvert_exporter": "python",
   "pygments_lexer": "ipython3",
   "version": "3.7.3"
  }
 },
 "nbformat": 4,
 "nbformat_minor": 2
}
